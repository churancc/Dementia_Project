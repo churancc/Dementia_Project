{
 "cells": [
  {
   "cell_type": "markdown",
   "id": "568878d0-d304-4eab-a65d-ecca854a9119",
   "metadata": {},
   "source": [
    "## Longitudinal MRI Data, Mental State Examination, and Education Attainment as Possible Diagnostic Factor for Alzheimer's Disease\n"
   ]
  },
  {
   "cell_type": "markdown",
   "id": "6a3b0a2e-d960-4e4b-ba76-5854986cd97e",
   "metadata": {
    "tags": []
   },
   "source": [
    "## Introduction"
   ]
  },
  {
   "cell_type": "markdown",
   "id": "0941d474-f855-46e9-8c7b-4c95ad984db8",
   "metadata": {},
   "source": [
    "Dementia is a chronic condition associated with aging and brain atrophy. It consist of widespread neuropsychological deficits that hinders daily activities. Our project focuses on Alzheimer's disease, the most common form of dementia. Unfortunately, Alzheimer’s has neither definitive diagnosis nor cure. Thus, this exploratory analysis aims to identify predictors to help with the early detection and prevention of Alzheimer's disease.\n",
    "\n",
    "Specifically, we want to see whether brain volume measures, mini-mental state examination score, and education attainment can predict an individual’s dementia state within a chosen dataset.\n",
    "\n",
    "We will use the longitudinal tabular dataset “Dementia Classification: Compare Classifiers” from Kaggle.com, with the pathway “oasis_longitudinal.csv”. This dataset has 15 variables and 373 rows, sampling from 150 participants aged 60-96. It examines the patterns in whether participants have dementia or not. This dataset includes description of the variables: \n",
    "\n",
    "<img src=https://raw.githubusercontent.com/churancc/Dementia_Project/main/Table%20column%20descriptors.png width=\"500\">\n"
   ]
  },
  {
   "cell_type": "markdown",
   "id": "937dd52f-8e66-4602-90bd-dd34f9c71b63",
   "metadata": {
    "tags": []
   },
   "source": [
    "## Methods\n",
    "#### Preliminary exploratory data analysis\n",
    "\n",
    "Adviced by the boxplots in the preliminary analysis, we will select columns EDU, MMSE and nWBV for the final analysis. With the dark bolded horizontal line in boxplot representing the median score for the y-variable, our selected variables show large discrepancies between each group’s medians. Although prior findings suggest older age’s link to dementia, age does not appear to vary across the two groups, meaning age may be a weak predictor.\n",
    "To attain data reproducibility, we set the seed to 1. We will use the K-nearest neighbors algorithm to build a classifier for dementia state prediction. The initial data set will be split into a training and test set, followed by cross-validation (with 10 folds) on the training set. We then specify the model specifications and recipe for the nearest neighbors before creating a workflow to plot the K vs. accuracy plot to select the highest accurate K-value. We will then make a new model specification with our best k in mind to evaluate our test set. Finally, after creating a tibble of new observations, we can evaluate the accuracy of our model for other new observations. "
   ]
  },
  {
   "cell_type": "code",
   "execution_count": 17,
   "id": "135949b3-c735-41c0-979a-a739f4a6fae8",
   "metadata": {},
   "outputs": [],
   "source": [
    "library(tidyverse)\n",
    "library (purrr)"
   ]
  },
  {
   "cell_type": "code",
   "execution_count": 8,
   "id": "d10cfd66-2529-4750-a383-202632ad6311",
   "metadata": {},
   "outputs": [
    {
     "name": "stderr",
     "output_type": "stream",
     "text": [
      "\u001b[1mRows: \u001b[22m\u001b[34m373\u001b[39m \u001b[1mColumns: \u001b[22m\u001b[34m15\u001b[39m\n",
      "\u001b[36m──\u001b[39m \u001b[1mColumn specification\u001b[22m \u001b[36m────────────────────────────────────────────────────────\u001b[39m\n",
      "\u001b[1mDelimiter:\u001b[22m \",\"\n",
      "\u001b[31mchr\u001b[39m  (5): Subject ID, MRI ID, Group, M/F, Hand\n",
      "\u001b[32mdbl\u001b[39m (10): Visit, MR Delay, Age, EDUC, SES, MMSE, CDR, eTIV, nWBV, ASF\n",
      "\n",
      "\u001b[36mℹ\u001b[39m Use `spec()` to retrieve the full column specification for this data.\n",
      "\u001b[36mℹ\u001b[39m Specify the column types or set `show_col_types = FALSE` to quiet this message.\n"
     ]
    },
    {
     "data": {
      "text/html": [
       "<table class=\"dataframe\">\n",
       "<caption>A tibble: 6 × 15</caption>\n",
       "<thead>\n",
       "\t<tr><th scope=col>Subject.ID</th><th scope=col>MRI.ID</th><th scope=col>Group</th><th scope=col>Visit</th><th scope=col>MR.Delay</th><th scope=col>Sex</th><th scope=col>Hand</th><th scope=col>Age</th><th scope=col>EDUC</th><th scope=col>SES</th><th scope=col>MMSE</th><th scope=col>CDR</th><th scope=col>eTIV</th><th scope=col>nWBV</th><th scope=col>ASF</th></tr>\n",
       "\t<tr><th scope=col>&lt;chr&gt;</th><th scope=col>&lt;chr&gt;</th><th scope=col>&lt;fct&gt;</th><th scope=col>&lt;dbl&gt;</th><th scope=col>&lt;dbl&gt;</th><th scope=col>&lt;fct&gt;</th><th scope=col>&lt;fct&gt;</th><th scope=col>&lt;dbl&gt;</th><th scope=col>&lt;dbl&gt;</th><th scope=col>&lt;fct&gt;</th><th scope=col>&lt;dbl&gt;</th><th scope=col>&lt;fct&gt;</th><th scope=col>&lt;dbl&gt;</th><th scope=col>&lt;dbl&gt;</th><th scope=col>&lt;dbl&gt;</th></tr>\n",
       "</thead>\n",
       "<tbody>\n",
       "\t<tr><td>OAS2_0001</td><td>OAS2_0001_MR1</td><td>Nondemented</td><td>1</td><td>   0</td><td>M</td><td>R</td><td>87</td><td>14</td><td>2 </td><td>27</td><td>0  </td><td>1987</td><td>0.696</td><td>0.883</td></tr>\n",
       "\t<tr><td>OAS2_0001</td><td>OAS2_0001_MR2</td><td>Nondemented</td><td>2</td><td> 457</td><td>M</td><td>R</td><td>88</td><td>14</td><td>2 </td><td>30</td><td>0  </td><td>2004</td><td>0.681</td><td>0.876</td></tr>\n",
       "\t<tr><td>OAS2_0002</td><td>OAS2_0002_MR1</td><td>Demented   </td><td>1</td><td>   0</td><td>M</td><td>R</td><td>75</td><td>12</td><td>NA</td><td>23</td><td>0.5</td><td>1678</td><td>0.736</td><td>1.046</td></tr>\n",
       "\t<tr><td>OAS2_0002</td><td>OAS2_0002_MR2</td><td>Demented   </td><td>2</td><td> 560</td><td>M</td><td>R</td><td>76</td><td>12</td><td>NA</td><td>28</td><td>0.5</td><td>1738</td><td>0.713</td><td>1.010</td></tr>\n",
       "\t<tr><td>OAS2_0002</td><td>OAS2_0002_MR3</td><td>Demented   </td><td>3</td><td>1895</td><td>M</td><td>R</td><td>80</td><td>12</td><td>NA</td><td>22</td><td>0.5</td><td>1698</td><td>0.701</td><td>1.034</td></tr>\n",
       "\t<tr><td>OAS2_0004</td><td>OAS2_0004_MR1</td><td>Nondemented</td><td>1</td><td>   0</td><td>F</td><td>R</td><td>88</td><td>18</td><td>3 </td><td>28</td><td>0  </td><td>1215</td><td>0.710</td><td>1.444</td></tr>\n",
       "</tbody>\n",
       "</table>\n"
      ],
      "text/latex": [
       "A tibble: 6 × 15\n",
       "\\begin{tabular}{lllllllllllllll}\n",
       " Subject.ID & MRI.ID & Group & Visit & MR.Delay & Sex & Hand & Age & EDUC & SES & MMSE & CDR & eTIV & nWBV & ASF\\\\\n",
       " <chr> & <chr> & <fct> & <dbl> & <dbl> & <fct> & <fct> & <dbl> & <dbl> & <fct> & <dbl> & <fct> & <dbl> & <dbl> & <dbl>\\\\\n",
       "\\hline\n",
       "\t OAS2\\_0001 & OAS2\\_0001\\_MR1 & Nondemented & 1 &    0 & M & R & 87 & 14 & 2  & 27 & 0   & 1987 & 0.696 & 0.883\\\\\n",
       "\t OAS2\\_0001 & OAS2\\_0001\\_MR2 & Nondemented & 2 &  457 & M & R & 88 & 14 & 2  & 30 & 0   & 2004 & 0.681 & 0.876\\\\\n",
       "\t OAS2\\_0002 & OAS2\\_0002\\_MR1 & Demented    & 1 &    0 & M & R & 75 & 12 & NA & 23 & 0.5 & 1678 & 0.736 & 1.046\\\\\n",
       "\t OAS2\\_0002 & OAS2\\_0002\\_MR2 & Demented    & 2 &  560 & M & R & 76 & 12 & NA & 28 & 0.5 & 1738 & 0.713 & 1.010\\\\\n",
       "\t OAS2\\_0002 & OAS2\\_0002\\_MR3 & Demented    & 3 & 1895 & M & R & 80 & 12 & NA & 22 & 0.5 & 1698 & 0.701 & 1.034\\\\\n",
       "\t OAS2\\_0004 & OAS2\\_0004\\_MR1 & Nondemented & 1 &    0 & F & R & 88 & 18 & 3  & 28 & 0   & 1215 & 0.710 & 1.444\\\\\n",
       "\\end{tabular}\n"
      ],
      "text/markdown": [
       "\n",
       "A tibble: 6 × 15\n",
       "\n",
       "| Subject.ID &lt;chr&gt; | MRI.ID &lt;chr&gt; | Group &lt;fct&gt; | Visit &lt;dbl&gt; | MR.Delay &lt;dbl&gt; | Sex &lt;fct&gt; | Hand &lt;fct&gt; | Age &lt;dbl&gt; | EDUC &lt;dbl&gt; | SES &lt;fct&gt; | MMSE &lt;dbl&gt; | CDR &lt;fct&gt; | eTIV &lt;dbl&gt; | nWBV &lt;dbl&gt; | ASF &lt;dbl&gt; |\n",
       "|---|---|---|---|---|---|---|---|---|---|---|---|---|---|---|\n",
       "| OAS2_0001 | OAS2_0001_MR1 | Nondemented | 1 |    0 | M | R | 87 | 14 | 2  | 27 | 0   | 1987 | 0.696 | 0.883 |\n",
       "| OAS2_0001 | OAS2_0001_MR2 | Nondemented | 2 |  457 | M | R | 88 | 14 | 2  | 30 | 0   | 2004 | 0.681 | 0.876 |\n",
       "| OAS2_0002 | OAS2_0002_MR1 | Demented    | 1 |    0 | M | R | 75 | 12 | NA | 23 | 0.5 | 1678 | 0.736 | 1.046 |\n",
       "| OAS2_0002 | OAS2_0002_MR2 | Demented    | 2 |  560 | M | R | 76 | 12 | NA | 28 | 0.5 | 1738 | 0.713 | 1.010 |\n",
       "| OAS2_0002 | OAS2_0002_MR3 | Demented    | 3 | 1895 | M | R | 80 | 12 | NA | 22 | 0.5 | 1698 | 0.701 | 1.034 |\n",
       "| OAS2_0004 | OAS2_0004_MR1 | Nondemented | 1 |    0 | F | R | 88 | 18 | 3  | 28 | 0   | 1215 | 0.710 | 1.444 |\n",
       "\n"
      ],
      "text/plain": [
       "  Subject.ID MRI.ID        Group       Visit MR.Delay Sex Hand Age EDUC SES\n",
       "1 OAS2_0001  OAS2_0001_MR1 Nondemented 1        0     M   R    87  14   2  \n",
       "2 OAS2_0001  OAS2_0001_MR2 Nondemented 2      457     M   R    88  14   2  \n",
       "3 OAS2_0002  OAS2_0002_MR1 Demented    1        0     M   R    75  12   NA \n",
       "4 OAS2_0002  OAS2_0002_MR2 Demented    2      560     M   R    76  12   NA \n",
       "5 OAS2_0002  OAS2_0002_MR3 Demented    3     1895     M   R    80  12   NA \n",
       "6 OAS2_0004  OAS2_0004_MR1 Nondemented 1        0     F   R    88  18   3  \n",
       "  MMSE CDR eTIV nWBV  ASF  \n",
       "1 27   0   1987 0.696 0.883\n",
       "2 30   0   2004 0.681 0.876\n",
       "3 23   0.5 1678 0.736 1.046\n",
       "4 28   0.5 1738 0.713 1.010\n",
       "5 22   0.5 1698 0.701 1.034\n",
       "6 28   0   1215 0.710 1.444"
      ]
     },
     "metadata": {},
     "output_type": "display_data"
    }
   ],
   "source": [
    "url <- \"https://raw.githubusercontent.com/churancc/Dementia_Project/main/oasis_longitudinal.csv\"\n",
    "\n",
    "dementia_df <- read_csv(url) |>\n",
    "mutate(across(c(\"Group\", \"M/F\", \"Hand\", \"SES\", \"CDR\"), as_factor)) |>\n",
    "filter(Group %in% c(\"Nondemented\", \"Demented\"))\n",
    "\n",
    "unique_names <- make.names(names(dementia_df), unique=TRUE)\n",
    "colnames(dementia_df) <- unique_names\n",
    "colnames(dementia_df)[6] <- \"Sex\"\n",
    "\n",
    "head(dementia_df) # Preview data set"
   ]
  },
  {
   "cell_type": "markdown",
   "id": "b75f941a-f116-41f7-b645-8c67693f9b96",
   "metadata": {},
   "source": [
    "3. Using only training data, summarize the data in at least one table (this is exploratory data analysis). An example of a useful table could be one that reports the number of observations in each class, the means of the predictor variables you plan to use in your analysis and how many rows have missing data. "
   ]
  },
  {
   "cell_type": "markdown",
   "id": "9a8a7dd5-d077-4228-8171-05176ce7a2f5",
   "metadata": {},
   "source": [
    "- **First table**: Throughout this longitudinal study (n = 150), each subject received a new brain MRI scan that determines their diagnostic label of dementia for every one to three visits.\n",
    "\n",
    "  - The table below shows that throughout the entire study, 72 subjects remained non-demented since their fitst visit, 64 subjects were demented on their first visit maintained the same diagnosis for later scans. Meanwhile, 14 subjects who were not characterized by dementia later converted as demented at a subsequent visit."
   ]
  },
  {
   "cell_type": "code",
   "execution_count": 9,
   "id": "11f313aa-dd43-40a1-a5bb-7563c93680e0",
   "metadata": {},
   "outputs": [
    {
     "name": "stderr",
     "output_type": "stream",
     "text": [
      "\u001b[1m\u001b[22m`summarise()` has grouped output by 'Subject.ID'. You can override using the\n",
      "`.groups` argument.\n"
     ]
    },
    {
     "data": {
      "text/html": [
       "<table class=\"dataframe\">\n",
       "<caption>A tibble: 2 × 2</caption>\n",
       "<thead>\n",
       "\t<tr><th scope=col>Group</th><th scope=col>Count</th></tr>\n",
       "\t<tr><th scope=col>&lt;fct&gt;</th><th scope=col>&lt;int&gt;</th></tr>\n",
       "</thead>\n",
       "<tbody>\n",
       "\t<tr><td>Nondemented</td><td>72</td></tr>\n",
       "\t<tr><td>Demented   </td><td>64</td></tr>\n",
       "</tbody>\n",
       "</table>\n"
      ],
      "text/latex": [
       "A tibble: 2 × 2\n",
       "\\begin{tabular}{ll}\n",
       " Group & Count\\\\\n",
       " <fct> & <int>\\\\\n",
       "\\hline\n",
       "\t Nondemented & 72\\\\\n",
       "\t Demented    & 64\\\\\n",
       "\\end{tabular}\n"
      ],
      "text/markdown": [
       "\n",
       "A tibble: 2 × 2\n",
       "\n",
       "| Group &lt;fct&gt; | Count &lt;int&gt; |\n",
       "|---|---|\n",
       "| Nondemented | 72 |\n",
       "| Demented    | 64 |\n",
       "\n"
      ],
      "text/plain": [
       "  Group       Count\n",
       "1 Nondemented 72   \n",
       "2 Demented    64   "
      ]
     },
     "metadata": {},
     "output_type": "display_data"
    }
   ],
   "source": [
    "class_table <- dementia_df |>\n",
    "                    group_by(Subject.ID, Group) |>\n",
    "                    summarize(Count = n()) |>\n",
    "\n",
    "                    group_by(Group) |>\n",
    "                    summarize(Count = n())\n",
    "\n",
    "class_table"
   ]
  },
  {
   "cell_type": "markdown",
   "id": "92d458b2-3dfa-49b1-9296-48f6d8259158",
   "metadata": {},
   "source": [
    ". Second table:  \n",
    "  Means of the predictor variables that may be used in the analysis. Chosen variables:EDUC, MMSE, nWBV. "
   ]
  },
  {
   "cell_type": "code",
   "execution_count": 18,
   "id": "2a531296-3132-405f-8b17-7c8a6275f3a2",
   "metadata": {},
   "outputs": [
    {
     "data": {
      "text/html": [
       "<table class=\"dataframe\">\n",
       "<caption>A tibble: 1 × 3</caption>\n",
       "<thead>\n",
       "\t<tr><th scope=col>EDUC</th><th scope=col>MMSE</th><th scope=col>nWBV</th></tr>\n",
       "\t<tr><th scope=col>&lt;dbl&gt;</th><th scope=col>&lt;dbl&gt;</th><th scope=col>&lt;dbl&gt;</th></tr>\n",
       "</thead>\n",
       "<tbody>\n",
       "\t<tr><td>14.50298</td><td>27.19461</td><td>0.7302113</td></tr>\n",
       "</tbody>\n",
       "</table>\n"
      ],
      "text/latex": [
       "A tibble: 1 × 3\n",
       "\\begin{tabular}{lll}\n",
       " EDUC & MMSE & nWBV\\\\\n",
       " <dbl> & <dbl> & <dbl>\\\\\n",
       "\\hline\n",
       "\t 14.50298 & 27.19461 & 0.7302113\\\\\n",
       "\\end{tabular}\n"
      ],
      "text/markdown": [
       "\n",
       "A tibble: 1 × 3\n",
       "\n",
       "| EDUC &lt;dbl&gt; | MMSE &lt;dbl&gt; | nWBV &lt;dbl&gt; |\n",
       "|---|---|---|\n",
       "| 14.50298 | 27.19461 | 0.7302113 |\n",
       "\n"
      ],
      "text/plain": [
       "  EDUC     MMSE     nWBV     \n",
       "1 14.50298 27.19461 0.7302113"
      ]
     },
     "metadata": {},
     "output_type": "display_data"
    }
   ],
   "source": [
    "predictor_mean_table <- dementia_df |>\n",
    "select(EDUC, MMSE, nWBV)|>\n",
    "map_df(mean, na.rm = TRUE)\n",
    "\n",
    "predictor_mean_table"
   ]
  },
  {
   "cell_type": "markdown",
   "id": "8532cc14-7af9-4f2c-948f-95c3f2c8d235",
   "metadata": {},
   "source": [
    "4. Using only training data, visualize the data with at least one plot relevant to the analysis you plan to do (this is exploratory data analysis). An example of a useful visualization could be one that compares the distributions of each of the predictor variables you plan to use in your analysis."
   ]
  },
  {
   "cell_type": "code",
   "execution_count": null,
   "id": "9c440a8f-25cc-432c-94b8-e555bd95f311",
   "metadata": {},
   "outputs": [],
   "source": [
    "options(repr.plot.width = 9)\n",
    "\n",
    "education_boxplot <- dementia_df |>\n",
    "                     ggplot(aes(x = Group, y = EDUC, fill = Group)) + \n",
    "                     geom_boxplot(outlier.size = 2) +\n",
    "                     theme(text = element_text(size = 20)) + \n",
    "                     labs(y = \"Highest Level of Education Completed (years)\") \n",
    "\n",
    "education_boxplot + scale_fill_brewer(palette = \"RdYlBu\")"
   ]
  },
  {
   "cell_type": "code",
   "execution_count": null,
   "id": "20286d96-458b-479d-abdf-ff052ee43368",
   "metadata": {},
   "outputs": [],
   "source": [
    "options(repr.plot.width = 9)\n",
    "\n",
    "MMSE_boxplot <- dementia_df |>\n",
    "                     ggplot(aes(x = Group, y = MMSE, fill = Group)) + \n",
    "                     geom_boxplot() +\n",
    "                     theme(text = element_text(size = 20)) + \n",
    "                     labs(y = \"Mental State Examination Scores\") \n",
    "\n",
    "MMSE_boxplot + scale_fill_brewer(palette = \"RdYlBu\")"
   ]
  },
  {
   "cell_type": "code",
   "execution_count": null,
   "id": "dd3b793c-d051-4ff9-be3f-0fe2b518e142",
   "metadata": {},
   "outputs": [],
   "source": [
    "options(repr.plot.width = 9)\n",
    "\n",
    "eTIV_boxplot <- dementia_df |>\n",
    "                     ggplot(aes(x = Group, y = eTIV, fill = Group)) + \n",
    "                     geom_boxplot() +\n",
    "                     theme(text = element_text(size = 20)) + \n",
    "                     labs(y = \"Total Intracranial Volume Estimates (cm^3)\") \n",
    "\n",
    "eTIV_boxplot + scale_fill_brewer(palette = \"RdYlBu\")"
   ]
  },
  {
   "cell_type": "code",
   "execution_count": null,
   "id": "3511a5bb-e75f-45e6-a6e7-a325598950da",
   "metadata": {
    "tags": []
   },
   "outputs": [],
   "source": [
    "options(repr.plot.width = 9)\n",
    "\n",
    "nWBV_boxplot <- dementia_df |>\n",
    "                     ggplot(aes(x = Group, y = nWBV, fill = Group)) + \n",
    "                     geom_boxplot() +\n",
    "                     theme(text = element_text(size = 20)) + \n",
    "                     labs(y = \"Total Brain Volume Estimates (normalized unit)\") \n",
    "\n",
    "nWBV_boxplot + scale_fill_brewer(palette = \"RdYlBu\")"
   ]
  },
  {
   "cell_type": "markdown",
   "id": "eff92859-c5b7-46dc-a50e-4e2cb86f83dd",
   "metadata": {},
   "source": [
    "options(repr.plot.width = 9)\n",
    "\n",
    "ASF_boxplot <- dementia_df |>\n",
    "                     ggplot(aes(x = Group, y = ASF, fill = Group)) + \n",
    "                     geom_boxplot() +\n",
    "                     theme(text = element_text(size = 20)) + \n",
    "                     labs(y = \"Total Brain Volume Estimates (unitless)\") \n",
    "\n",
    "ASF_boxplot + scale_fill_brewer(palette = \"RdYlBu\")"
   ]
  },
  {
   "cell_type": "code",
   "execution_count": null,
   "id": "a9b716ea-b5bd-4a97-81ed-73cb952358f8",
   "metadata": {},
   "outputs": [],
   "source": [
    "options(repr.plot.width = 9)\n",
    "\n",
    "Age_boxplot <- dementia_df |>\n",
    "                     ggplot(aes(x = Group, y = Age, fill = Group)) + \n",
    "                     geom_boxplot() +\n",
    "                     theme(text = element_text(size = 20)) + \n",
    "                     labs(y = \"Age (in years)\") \n",
    "\n",
    "Age_boxplot + scale_fill_brewer(palette = \"RdYlBu\")"
   ]
  },
  {
   "cell_type": "markdown",
   "id": "095327ec-956a-42e3-a589-c3a8d0aa456d",
   "metadata": {},
   "source": [
    "#### Visualizations to be Used\n",
    "We use a K-nearest neighbor algorithm 3D scatter plot to visualise all 3 predictor variables, with the colouring of the plot being the target variable, Group. We will also have a red data point that signifies any new observation to clearly examine its closest data points. "
   ]
  },
  {
   "cell_type": "markdown",
   "id": "395b46c9-5b05-41a9-aaa9-27bbb6432c9a",
   "metadata": {},
   "source": [
    "## Expected Outcome and Significance\n",
    "- expected findings\n",
    "\n",
    "We expect to find that a new observation from someone above 60 with a high mini-mental state exam score, education level, and total brain volume, the individual will likely be classified as non-demented. Similarly, a new observation with a low mental state exam score and low total brain volume will likely be classified into the demented group.\n",
    "\n",
    "- expected impact of findings\n",
    "\n",
    "Our analysis could have important implications for dementia diagnosis and treatment. Given that there is no formal diagnosis for Alzheimer’s, our findings can help predict onsets of dementia from brain imaging, cost-efficient mental exams, and education level. \n",
    "\n",
    "- future questions\n",
    "\n",
    "If our predictive model for Alzheimer’s disease could attain a high level of accuracy using the chosen predictors, similar predictors may be used to predict other neurodegenerative diseases for different age groups.\n"
   ]
  }
 ],
 "metadata": {
  "kernelspec": {
   "display_name": "R",
   "language": "R",
   "name": "ir"
  },
  "language_info": {
   "codemirror_mode": "r",
   "file_extension": ".r",
   "mimetype": "text/x-r-source",
   "name": "R",
   "pygments_lexer": "r",
   "version": "4.1.3"
  }
 },
 "nbformat": 4,
 "nbformat_minor": 5
}
