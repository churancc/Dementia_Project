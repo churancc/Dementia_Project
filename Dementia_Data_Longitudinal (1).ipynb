{
 "cells": [
  {
   "cell_type": "markdown",
   "id": "937dd52f-8e66-4602-90bd-dd34f9c71b63",
   "metadata": {},
   "source": [
    "**Preliminary exploratory data analysis**\n",
    "\n",
    "1. Demonstrate that the dataset can be read from the web into R \n",
    "2. Clean and wrangle your data into a tidy format"
   ]
  },
  {
   "cell_type": "code",
   "execution_count": 22,
   "id": "135949b3-c735-41c0-979a-a739f4a6fae8",
   "metadata": {},
   "outputs": [],
   "source": [
    "library(tidyverse)"
   ]
  },
  {
   "cell_type": "code",
   "execution_count": 66,
   "id": "d10cfd66-2529-4750-a383-202632ad6311",
   "metadata": {},
   "outputs": [
    {
     "name": "stderr",
     "output_type": "stream",
     "text": [
      "\u001b[1mRows: \u001b[22m\u001b[34m373\u001b[39m \u001b[1mColumns: \u001b[22m\u001b[34m15\u001b[39m\n",
      "\u001b[36m──\u001b[39m \u001b[1mColumn specification\u001b[22m \u001b[36m────────────────────────────────────────────────────────\u001b[39m\n",
      "\u001b[1mDelimiter:\u001b[22m \",\"\n",
      "\u001b[31mchr\u001b[39m  (5): Subject ID, MRI ID, Group, M/F, Hand\n",
      "\u001b[32mdbl\u001b[39m (10): Visit, MR Delay, Age, EDUC, SES, MMSE, CDR, eTIV, nWBV, ASF\n",
      "\n",
      "\u001b[36mℹ\u001b[39m Use `spec()` to retrieve the full column specification for this data.\n",
      "\u001b[36mℹ\u001b[39m Specify the column types or set `show_col_types = FALSE` to quiet this message.\n"
     ]
    },
    {
     "data": {
      "text/html": [
       "<table class=\"dataframe\">\n",
       "<caption>A tibble: 6 × 15</caption>\n",
       "<thead>\n",
       "\t<tr><th scope=col>Subject.ID</th><th scope=col>MRI.ID</th><th scope=col>Diagnosis</th><th scope=col>Visit</th><th scope=col>MR.Delay</th><th scope=col>Sex</th><th scope=col>Hand</th><th scope=col>Age</th><th scope=col>EDUC</th><th scope=col>SES</th><th scope=col>MMSE</th><th scope=col>CDR</th><th scope=col>eTIV</th><th scope=col>nWBV</th><th scope=col>ASF</th></tr>\n",
       "\t<tr><th scope=col>&lt;chr&gt;</th><th scope=col>&lt;chr&gt;</th><th scope=col>&lt;fct&gt;</th><th scope=col>&lt;dbl&gt;</th><th scope=col>&lt;dbl&gt;</th><th scope=col>&lt;fct&gt;</th><th scope=col>&lt;fct&gt;</th><th scope=col>&lt;dbl&gt;</th><th scope=col>&lt;dbl&gt;</th><th scope=col>&lt;dbl&gt;</th><th scope=col>&lt;dbl&gt;</th><th scope=col>&lt;dbl&gt;</th><th scope=col>&lt;dbl&gt;</th><th scope=col>&lt;dbl&gt;</th><th scope=col>&lt;dbl&gt;</th></tr>\n",
       "</thead>\n",
       "<tbody>\n",
       "\t<tr><td>OAS2_0001</td><td>OAS2_0001_MR1</td><td>Nondemented</td><td>1</td><td>   0</td><td>M</td><td>R</td><td>87</td><td>14</td><td> 2</td><td>27</td><td>0.0</td><td>1987</td><td>0.696</td><td>0.883</td></tr>\n",
       "\t<tr><td>OAS2_0001</td><td>OAS2_0001_MR2</td><td>Nondemented</td><td>2</td><td> 457</td><td>M</td><td>R</td><td>88</td><td>14</td><td> 2</td><td>30</td><td>0.0</td><td>2004</td><td>0.681</td><td>0.876</td></tr>\n",
       "\t<tr><td>OAS2_0002</td><td>OAS2_0002_MR1</td><td>Demented   </td><td>1</td><td>   0</td><td>M</td><td>R</td><td>75</td><td>12</td><td>NA</td><td>23</td><td>0.5</td><td>1678</td><td>0.736</td><td>1.046</td></tr>\n",
       "\t<tr><td>OAS2_0002</td><td>OAS2_0002_MR2</td><td>Demented   </td><td>2</td><td> 560</td><td>M</td><td>R</td><td>76</td><td>12</td><td>NA</td><td>28</td><td>0.5</td><td>1738</td><td>0.713</td><td>1.010</td></tr>\n",
       "\t<tr><td>OAS2_0002</td><td>OAS2_0002_MR3</td><td>Demented   </td><td>3</td><td>1895</td><td>M</td><td>R</td><td>80</td><td>12</td><td>NA</td><td>22</td><td>0.5</td><td>1698</td><td>0.701</td><td>1.034</td></tr>\n",
       "\t<tr><td>OAS2_0004</td><td>OAS2_0004_MR1</td><td>Nondemented</td><td>1</td><td>   0</td><td>F</td><td>R</td><td>88</td><td>18</td><td> 3</td><td>28</td><td>0.0</td><td>1215</td><td>0.710</td><td>1.444</td></tr>\n",
       "</tbody>\n",
       "</table>\n"
      ],
      "text/latex": [
       "A tibble: 6 × 15\n",
       "\\begin{tabular}{lllllllllllllll}\n",
       " Subject.ID & MRI.ID & Diagnosis & Visit & MR.Delay & Sex & Hand & Age & EDUC & SES & MMSE & CDR & eTIV & nWBV & ASF\\\\\n",
       " <chr> & <chr> & <fct> & <dbl> & <dbl> & <fct> & <fct> & <dbl> & <dbl> & <dbl> & <dbl> & <dbl> & <dbl> & <dbl> & <dbl>\\\\\n",
       "\\hline\n",
       "\t OAS2\\_0001 & OAS2\\_0001\\_MR1 & Nondemented & 1 &    0 & M & R & 87 & 14 &  2 & 27 & 0.0 & 1987 & 0.696 & 0.883\\\\\n",
       "\t OAS2\\_0001 & OAS2\\_0001\\_MR2 & Nondemented & 2 &  457 & M & R & 88 & 14 &  2 & 30 & 0.0 & 2004 & 0.681 & 0.876\\\\\n",
       "\t OAS2\\_0002 & OAS2\\_0002\\_MR1 & Demented    & 1 &    0 & M & R & 75 & 12 & NA & 23 & 0.5 & 1678 & 0.736 & 1.046\\\\\n",
       "\t OAS2\\_0002 & OAS2\\_0002\\_MR2 & Demented    & 2 &  560 & M & R & 76 & 12 & NA & 28 & 0.5 & 1738 & 0.713 & 1.010\\\\\n",
       "\t OAS2\\_0002 & OAS2\\_0002\\_MR3 & Demented    & 3 & 1895 & M & R & 80 & 12 & NA & 22 & 0.5 & 1698 & 0.701 & 1.034\\\\\n",
       "\t OAS2\\_0004 & OAS2\\_0004\\_MR1 & Nondemented & 1 &    0 & F & R & 88 & 18 &  3 & 28 & 0.0 & 1215 & 0.710 & 1.444\\\\\n",
       "\\end{tabular}\n"
      ],
      "text/markdown": [
       "\n",
       "A tibble: 6 × 15\n",
       "\n",
       "| Subject.ID &lt;chr&gt; | MRI.ID &lt;chr&gt; | Diagnosis &lt;fct&gt; | Visit &lt;dbl&gt; | MR.Delay &lt;dbl&gt; | Sex &lt;fct&gt; | Hand &lt;fct&gt; | Age &lt;dbl&gt; | EDUC &lt;dbl&gt; | SES &lt;dbl&gt; | MMSE &lt;dbl&gt; | CDR &lt;dbl&gt; | eTIV &lt;dbl&gt; | nWBV &lt;dbl&gt; | ASF &lt;dbl&gt; |\n",
       "|---|---|---|---|---|---|---|---|---|---|---|---|---|---|---|\n",
       "| OAS2_0001 | OAS2_0001_MR1 | Nondemented | 1 |    0 | M | R | 87 | 14 |  2 | 27 | 0.0 | 1987 | 0.696 | 0.883 |\n",
       "| OAS2_0001 | OAS2_0001_MR2 | Nondemented | 2 |  457 | M | R | 88 | 14 |  2 | 30 | 0.0 | 2004 | 0.681 | 0.876 |\n",
       "| OAS2_0002 | OAS2_0002_MR1 | Demented    | 1 |    0 | M | R | 75 | 12 | NA | 23 | 0.5 | 1678 | 0.736 | 1.046 |\n",
       "| OAS2_0002 | OAS2_0002_MR2 | Demented    | 2 |  560 | M | R | 76 | 12 | NA | 28 | 0.5 | 1738 | 0.713 | 1.010 |\n",
       "| OAS2_0002 | OAS2_0002_MR3 | Demented    | 3 | 1895 | M | R | 80 | 12 | NA | 22 | 0.5 | 1698 | 0.701 | 1.034 |\n",
       "| OAS2_0004 | OAS2_0004_MR1 | Nondemented | 1 |    0 | F | R | 88 | 18 |  3 | 28 | 0.0 | 1215 | 0.710 | 1.444 |\n",
       "\n"
      ],
      "text/plain": [
       "  Subject.ID MRI.ID        Diagnosis   Visit MR.Delay Sex Hand Age EDUC SES\n",
       "1 OAS2_0001  OAS2_0001_MR1 Nondemented 1        0     M   R    87  14    2 \n",
       "2 OAS2_0001  OAS2_0001_MR2 Nondemented 2      457     M   R    88  14    2 \n",
       "3 OAS2_0002  OAS2_0002_MR1 Demented    1        0     M   R    75  12   NA \n",
       "4 OAS2_0002  OAS2_0002_MR2 Demented    2      560     M   R    76  12   NA \n",
       "5 OAS2_0002  OAS2_0002_MR3 Demented    3     1895     M   R    80  12   NA \n",
       "6 OAS2_0004  OAS2_0004_MR1 Nondemented 1        0     F   R    88  18    3 \n",
       "  MMSE CDR eTIV nWBV  ASF  \n",
       "1 27   0.0 1987 0.696 0.883\n",
       "2 30   0.0 2004 0.681 0.876\n",
       "3 23   0.5 1678 0.736 1.046\n",
       "4 28   0.5 1738 0.713 1.010\n",
       "5 22   0.5 1698 0.701 1.034\n",
       "6 28   0.0 1215 0.710 1.444"
      ]
     },
     "metadata": {},
     "output_type": "display_data"
    }
   ],
   "source": [
    "url <- \"https://raw.githubusercontent.com/churancc/Dementia_Project/main/oasis_longitudinal.csv\"\n",
    "\n",
    "dementia_df <- read_csv(url) |>\n",
    "mutate(across(c(\"Group\", \"M/F\", \"Hand\"), as_factor))\n",
    "\n",
    "unique_names <- make.names(names(dementia_df), unique=TRUE)\n",
    "colnames(dementia_df) <- unique_names\n",
    "colnames(dementia_df)[c(3,6)] <- c(\"Diagnosis\", \"Sex\")\n",
    "\n",
    "head(dementia_df)"
   ]
  },
  {
   "cell_type": "markdown",
   "id": "b75f941a-f116-41f7-b645-8c67693f9b96",
   "metadata": {},
   "source": [
    "3. Using only training data, summarize the data in at least one table (this is exploratory data analysis). An example of a useful table could be one that reports the number of observations in each class, the means of the predictor variables you plan to use in your analysis and how many rows have missing data. "
   ]
  },
  {
   "cell_type": "markdown",
   "id": "9a8a7dd5-d077-4228-8171-05176ce7a2f5",
   "metadata": {},
   "source": [
    "- **First table**: Throughout this longitudinal study, each subject (n = 150) received a new brain MRI scan that determines their diagnostic label of dementia for every one to three visits.\n",
    "\n",
    "  - The table below shows that throughout the entire study, 72 subjects remained non-demented since their fitst visit, 64 subjects were demented on their first visit maintained the same diagnosis for later scans. Meanwhile, 14 subjects who were not characterized by dementia later converted as demented at a subsequent visit."
   ]
  },
  {
   "cell_type": "code",
   "execution_count": 74,
   "id": "11f313aa-dd43-40a1-a5bb-7563c93680e0",
   "metadata": {},
   "outputs": [
    {
     "name": "stderr",
     "output_type": "stream",
     "text": [
      "\u001b[1m\u001b[22m`summarise()` has grouped output by 'Subject.ID'. You can override using the\n",
      "`.groups` argument.\n"
     ]
    },
    {
     "data": {
      "text/html": [
       "<table class=\"dataframe\">\n",
       "<caption>A tibble: 3 × 2</caption>\n",
       "<thead>\n",
       "\t<tr><th scope=col>Diagnosis</th><th scope=col>Count</th></tr>\n",
       "\t<tr><th scope=col>&lt;fct&gt;</th><th scope=col>&lt;int&gt;</th></tr>\n",
       "</thead>\n",
       "<tbody>\n",
       "\t<tr><td>Nondemented</td><td>72</td></tr>\n",
       "\t<tr><td>Demented   </td><td>64</td></tr>\n",
       "\t<tr><td>Converted  </td><td>14</td></tr>\n",
       "</tbody>\n",
       "</table>\n"
      ],
      "text/latex": [
       "A tibble: 3 × 2\n",
       "\\begin{tabular}{ll}\n",
       " Diagnosis & Count\\\\\n",
       " <fct> & <int>\\\\\n",
       "\\hline\n",
       "\t Nondemented & 72\\\\\n",
       "\t Demented    & 64\\\\\n",
       "\t Converted   & 14\\\\\n",
       "\\end{tabular}\n"
      ],
      "text/markdown": [
       "\n",
       "A tibble: 3 × 2\n",
       "\n",
       "| Diagnosis &lt;fct&gt; | Count &lt;int&gt; |\n",
       "|---|---|\n",
       "| Nondemented | 72 |\n",
       "| Demented    | 64 |\n",
       "| Converted   | 14 |\n",
       "\n"
      ],
      "text/plain": [
       "  Diagnosis   Count\n",
       "1 Nondemented 72   \n",
       "2 Demented    64   \n",
       "3 Converted   14   "
      ]
     },
     "metadata": {},
     "output_type": "display_data"
    }
   ],
   "source": [
    "class_count <- dementia_df |>\n",
    "                    group_by(Subject.ID, Diagnosis) |>\n",
    "                    summarize(Count = n()) |>\n",
    "\n",
    "                    group_by(Diagnosis) |>\n",
    "                    summarize(Count = n())\n",
    "\n",
    "class_count"
   ]
  },
  {
   "cell_type": "markdown",
   "id": "8532cc14-7af9-4f2c-948f-95c3f2c8d235",
   "metadata": {},
   "source": [
    "4. Using only training data, visualize the data with at least one plot relevant to the analysis you plan to do (this is exploratory data analysis). An example of a useful visualization could be one that compares the distributions of each of the predictor variables you plan to use in your analysis."
   ]
  }
 ],
 "metadata": {
  "kernelspec": {
   "display_name": "R",
   "language": "R",
   "name": "ir"
  },
  "language_info": {
   "codemirror_mode": "r",
   "file_extension": ".r",
   "mimetype": "text/x-r-source",
   "name": "R",
   "pygments_lexer": "r",
   "version": "4.1.3"
  }
 },
 "nbformat": 4,
 "nbformat_minor": 5
}
